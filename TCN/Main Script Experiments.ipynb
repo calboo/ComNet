{
 "cells": [
  {
   "cell_type": "markdown",
   "id": "fb786f7d",
   "metadata": {},
   "source": [
    "# Main Script"
   ]
  },
  {
   "cell_type": "markdown",
   "id": "fe1c41c6-b973-4da2-bebe-ba1c3f49fd58",
   "metadata": {},
   "source": [
    "### Naive model statistics for baseline GLD 1 day\n",
    "\n",
    "The average probability density is:  0.279  \n",
    "The average NLL is:  0.485  \n",
    "The average MAE is:  0.665  "
   ]
  },
  {
   "cell_type": "markdown",
   "id": "d858ef24-4fb9-41fe-a055-2daadfe10e94",
   "metadata": {},
   "source": [
    "### Train/Eval Model"
   ]
  },
  {
   "cell_type": "code",
   "execution_count": null,
   "id": "0f8f5d9a",
   "metadata": {
    "scrolled": true
   },
   "outputs": [],
   "source": [
    "%run ./app/ComNet_Train.py \\\n",
    "--inputs_file_name '../Data/Input/Selected_features/input_data.pkl' \\\n",
    "--targets_file_name '../Data/Input/Basic/input_target.pkl' \\\n",
    "--save_dir 'outputs/TESTING' --name 'Experiments' --version 'Test_1' --gpu_accel \\\n",
    "--model_config '{\"model_args\": {\"history_length\": 100, \"num_inputs\": 30, \"num_channels\": [32,16,8], \"activation\": \"gelu\", \"kernel_size\": 10, \"dropout\": 0.5}}' \\\n",
    "--optimizer 'SGD' --lr '1e-4' --weight_decay '0.001' --sample_noise '0.05' \\\n",
    "--batch_size '4' --log_interval '128' --epochs '50' --eval_interval '5' \\\n",
    "--weight_hist --print_singular \n"
   ]
  },
  {
   "cell_type": "markdown",
   "id": "b46e192c-e96d-458e-b577-78cafb1b4d66",
   "metadata": {},
   "source": [
    "# Scheduler arg templates"
   ]
  },
  {
   "cell_type": "code",
   "execution_count": null,
   "id": "8e353cec-60d5-43ac-ae83-5d38ded6acfe",
   "metadata": {},
   "outputs": [],
   "source": [
    "# lr_config template for plateau\n",
    "--lr_config '{\"sched_args\": {\"method\": \"plateau\", \"factor\": \"1/np.sqrt(10)\", \"patience\": 5, \"threshold\": 0.1}}' \\\n"
   ]
  },
  {
   "cell_type": "code",
   "execution_count": null,
   "id": "95ab0fb6-82a2-4e5d-9799-19c71550e6f3",
   "metadata": {},
   "outputs": [],
   "source": [
    "# lr_config template for cosine_warm\n",
    "--lr_config '{\"sched_args\": {\"method\": \"cosine_warm\", \"t_0\": 10, \"t_mult\": 1}}' \\\n"
   ]
  },
  {
   "cell_type": "code",
   "execution_count": null,
   "id": "38043018-4515-4367-8095-01d6128ed052",
   "metadata": {},
   "outputs": [],
   "source": [
    "# lr_config template for one_cycle\n",
    "--lr_config '{\"sched_args\": {\"method\": \"one_cycle\", \"max_lr\": 1e-3, \"three_phase\": true}}' \\\n"
   ]
  },
  {
   "cell_type": "markdown",
   "id": "9b657ecb-d8b8-4d5f-962f-eac4c56693c2",
   "metadata": {},
   "source": [
    "### LR_find"
   ]
  },
  {
   "cell_type": "code",
   "execution_count": null,
   "id": "e9e01a8a-4675-46a4-af6a-d196576ee1a0",
   "metadata": {
    "scrolled": true
   },
   "outputs": [],
   "source": [
    "%run ./app/ComNet_lrfind.py \\\n",
    "--inputs_file_name '../Data/Input/Basic/input_data.pkl' \\\n",
    "--targets_file_name '../Data/Input/Basic/input_target.pkl' \\\n",
    "--save_dir 'outputs/TESTING' --name 'lrfind_build' --version 'batch_4' --gpu_accel \\\n",
    "--model_config '{\"model_args\": {\"history_length\": 100, \"num_inputs\": 81, \"num_channels\": [16,8], \"activation\": \"gelu\", \"kernel_size\": 3, \"dropout\": 0.5}}' \\\n",
    "--optimizer 'SGD' --lr_init '1e-6' --lr_max '1e1' --weight_decay '0.1' \\\n",
    "--batch_size '4' --beta '0.99' --epochs '5' --num_runs '10'\n"
   ]
  }
 ],
 "metadata": {
  "kernelspec": {
   "display_name": "Python 3 (ipykernel)",
   "language": "python",
   "name": "python3"
  },
  "language_info": {
   "codemirror_mode": {
    "name": "ipython",
    "version": 3
   },
   "file_extension": ".py",
   "mimetype": "text/x-python",
   "name": "python",
   "nbconvert_exporter": "python",
   "pygments_lexer": "ipython3",
   "version": "3.10.9"
  }
 },
 "nbformat": 4,
 "nbformat_minor": 5
}
