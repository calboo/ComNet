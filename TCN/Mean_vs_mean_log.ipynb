{
 "cells": [
  {
   "cell_type": "markdown",
   "id": "02d86293-e2fd-4cdd-ba52-f450373e0a32",
   "metadata": {},
   "source": [
    "# Mean vs log mean"
   ]
  },
  {
   "cell_type": "markdown",
   "id": "f10f2bd2-347f-4640-8cc9-b115ab1a1b45",
   "metadata": {},
   "source": [
    "The purpose of this notebook is to investigate how the mean average of negative log likelihood varies simply with the likelihood. In my specific case the likelihood is represented by a Gaussian probability density which we aim to maximise by minimising its negative logarithm. In testing the TCN I have noticed that when the model overfits the train data then on the test data the probability density remains fairly constant whilst the loss function, which is based on the negative logarithm of the probability density, increases dramatically. Here I will attempt to explain this outcome which at first may seem counter-intuitive.\n",
    "\n",
    "Firtly it should be noted that this phenomena could occur regardless of the form of the likelihood function. Therefore, despite my particular likelihood function being a Gaussian probability density we will denote the more general likelihood function simply as $z$. Next the negative log likelihood is defined simply as $-ln(z)$. Then the two values we wish to compare are $\\Sigma_n z$ and $\\Sigma_n (-ln(z))$ where $n$ is the number of samples in the test dataset.\n",
    "\n",
    "In particular we want to identify the circumstances under which $\\Sigma_n (-ln(z))$ can vary whilst $\\Sigma_n z$ remains constant. I suspect that this is the case when extreme values of $z$ are encountered. We will begin therefore by starting with a uniform set of $z$ such that all elements are identical and then begin to vary each element under the strict condition that $\\Sigma_n z$ remains unchanged."
   ]
  },
  {
   "cell_type": "markdown",
   "id": "3407925c-42ca-40e6-a33c-d5134d4573ce",
   "metadata": {},
   "source": [
    "## Uniform $z$"
   ]
  },
  {
   "cell_type": "code",
   "execution_count": 14,
   "id": "2ee9a06e-8640-4074-9188-bbae8c6f4c6a",
   "metadata": {},
   "outputs": [],
   "source": [
    "import numpy as np"
   ]
  },
  {
   "cell_type": "code",
   "execution_count": 22,
   "id": "14b4e650-3af4-45b7-aa43-3a2523212702",
   "metadata": {},
   "outputs": [
    {
     "data": {
      "text/plain": [
       "array([0.4, 0.4, 0.4, 0.4, 0.4, 0.4, 0.4, 0.4, 0.4, 0.4, 0.4, 0.4, 0.4,\n",
       "       0.4, 0.4, 0.4, 0.4, 0.4, 0.4, 0.4, 0.4, 0.4, 0.4, 0.4, 0.4, 0.4,\n",
       "       0.4, 0.4, 0.4, 0.4, 0.4, 0.4, 0.4, 0.4, 0.4, 0.4, 0.4, 0.4, 0.4,\n",
       "       0.4, 0.4, 0.4, 0.4, 0.4, 0.4, 0.4, 0.4, 0.4, 0.4, 0.4, 0.4, 0.4,\n",
       "       0.4, 0.4, 0.4, 0.4, 0.4, 0.4, 0.4, 0.4, 0.4, 0.4, 0.4, 0.4, 0.4,\n",
       "       0.4, 0.4, 0.4, 0.4, 0.4, 0.4, 0.4, 0.4, 0.4, 0.4, 0.4, 0.4, 0.4,\n",
       "       0.4, 0.4, 0.4, 0.4, 0.4, 0.4, 0.4, 0.4, 0.4, 0.4, 0.4, 0.4, 0.4,\n",
       "       0.4, 0.4, 0.4, 0.4, 0.4, 0.4, 0.4, 0.4, 0.4])"
      ]
     },
     "execution_count": 22,
     "metadata": {},
     "output_type": "execute_result"
    }
   ],
   "source": [
    "# Let us start with this set for z\n",
    "z_0 = 0.4*np.ones(100)\n",
    "z_0"
   ]
  },
  {
   "cell_type": "code",
   "execution_count": 26,
   "id": "3bef5d41-1251-46c9-b691-00dcd78dfad4",
   "metadata": {},
   "outputs": [
    {
     "data": {
      "text/plain": [
       "array([0.91629073, 0.91629073, 0.91629073, 0.91629073, 0.91629073,\n",
       "       0.91629073, 0.91629073, 0.91629073, 0.91629073, 0.91629073,\n",
       "       0.91629073, 0.91629073, 0.91629073, 0.91629073, 0.91629073,\n",
       "       0.91629073, 0.91629073, 0.91629073, 0.91629073, 0.91629073,\n",
       "       0.91629073, 0.91629073, 0.91629073, 0.91629073, 0.91629073,\n",
       "       0.91629073, 0.91629073, 0.91629073, 0.91629073, 0.91629073,\n",
       "       0.91629073, 0.91629073, 0.91629073, 0.91629073, 0.91629073,\n",
       "       0.91629073, 0.91629073, 0.91629073, 0.91629073, 0.91629073,\n",
       "       0.91629073, 0.91629073, 0.91629073, 0.91629073, 0.91629073,\n",
       "       0.91629073, 0.91629073, 0.91629073, 0.91629073, 0.91629073,\n",
       "       0.91629073, 0.91629073, 0.91629073, 0.91629073, 0.91629073,\n",
       "       0.91629073, 0.91629073, 0.91629073, 0.91629073, 0.91629073,\n",
       "       0.91629073, 0.91629073, 0.91629073, 0.91629073, 0.91629073,\n",
       "       0.91629073, 0.91629073, 0.91629073, 0.91629073, 0.91629073,\n",
       "       0.91629073, 0.91629073, 0.91629073, 0.91629073, 0.91629073,\n",
       "       0.91629073, 0.91629073, 0.91629073, 0.91629073, 0.91629073,\n",
       "       0.91629073, 0.91629073, 0.91629073, 0.91629073, 0.91629073,\n",
       "       0.91629073, 0.91629073, 0.91629073, 0.91629073, 0.91629073,\n",
       "       0.91629073, 0.91629073, 0.91629073, 0.91629073, 0.91629073,\n",
       "       0.91629073, 0.91629073, 0.91629073, 0.91629073, 0.91629073])"
      ]
     },
     "execution_count": 26,
     "metadata": {},
     "output_type": "execute_result"
    }
   ],
   "source": [
    "# NLL\n",
    "NLL = -np.log(z_0)\n",
    "NLL"
   ]
  },
  {
   "cell_type": "code",
   "execution_count": 31,
   "id": "50056467-f61c-4655-96ef-b0f50e58649e",
   "metadata": {},
   "outputs": [
    {
     "name": "stdout",
     "output_type": "stream",
     "text": [
      "0.3999999999999999\n",
      "0.9162907318741549\n"
     ]
    }
   ],
   "source": [
    "# average z and average NLL\n",
    "print(np.mean(z_0))\n",
    "print(np.mean(NLL))"
   ]
  },
  {
   "cell_type": "code",
   "execution_count": 56,
   "id": "5371360c-2868-418b-9723-817d8e257b8b",
   "metadata": {},
   "outputs": [
    {
     "name": "stdout",
     "output_type": "stream",
     "text": [
      "0.9162907318741553\n",
      "0.9162907318741549\n"
     ]
    }
   ],
   "source": [
    "# Here we have a fairly low value for the average of NLL \n",
    "# furthermore in this case the order of operations is irrelevant\n",
    "print(-np.log(np.mean(z_0)))\n",
    "print(np.mean(-np.log(z_0)))"
   ]
  },
  {
   "cell_type": "markdown",
   "id": "e43d2320-a08b-47a3-a3b6-5e8b311f5c1d",
   "metadata": {},
   "source": [
    "## Varying $z$"
   ]
  },
  {
   "cell_type": "code",
   "execution_count": 38,
   "id": "75bc4fb6-1be4-44c6-93c4-2a2ff513e673",
   "metadata": {},
   "outputs": [
    {
     "data": {
      "text/plain": [
       "array([0.1       , 0.10606061, 0.11212121, 0.11818182, 0.12424242,\n",
       "       0.13030303, 0.13636364, 0.14242424, 0.14848485, 0.15454545,\n",
       "       0.16060606, 0.16666667, 0.17272727, 0.17878788, 0.18484848,\n",
       "       0.19090909, 0.1969697 , 0.2030303 , 0.20909091, 0.21515152,\n",
       "       0.22121212, 0.22727273, 0.23333333, 0.23939394, 0.24545455,\n",
       "       0.25151515, 0.25757576, 0.26363636, 0.26969697, 0.27575758,\n",
       "       0.28181818, 0.28787879, 0.29393939, 0.3       , 0.30606061,\n",
       "       0.31212121, 0.31818182, 0.32424242, 0.33030303, 0.33636364,\n",
       "       0.34242424, 0.34848485, 0.35454545, 0.36060606, 0.36666667,\n",
       "       0.37272727, 0.37878788, 0.38484848, 0.39090909, 0.3969697 ,\n",
       "       0.4030303 , 0.40909091, 0.41515152, 0.42121212, 0.42727273,\n",
       "       0.43333333, 0.43939394, 0.44545455, 0.45151515, 0.45757576,\n",
       "       0.46363636, 0.46969697, 0.47575758, 0.48181818, 0.48787879,\n",
       "       0.49393939, 0.5       , 0.50606061, 0.51212121, 0.51818182,\n",
       "       0.52424242, 0.53030303, 0.53636364, 0.54242424, 0.54848485,\n",
       "       0.55454545, 0.56060606, 0.56666667, 0.57272727, 0.57878788,\n",
       "       0.58484848, 0.59090909, 0.5969697 , 0.6030303 , 0.60909091,\n",
       "       0.61515152, 0.62121212, 0.62727273, 0.63333333, 0.63939394,\n",
       "       0.64545455, 0.65151515, 0.65757576, 0.66363636, 0.66969697,\n",
       "       0.67575758, 0.68181818, 0.68787879, 0.69393939, 0.7       ])"
      ]
     },
     "execution_count": 38,
     "metadata": {},
     "output_type": "execute_result"
    }
   ],
   "source": [
    "# Let us now vary z whilst keeping the average value 0.4\n",
    "z_1 = np.linspace(0.1,0.7,100)\n",
    "z_1"
   ]
  },
  {
   "cell_type": "code",
   "execution_count": 40,
   "id": "a3922c72-da94-45fa-9aa1-9f47dbb41d21",
   "metadata": {},
   "outputs": [
    {
     "data": {
      "text/plain": [
       "array([2.30258509, 2.24374459, 2.18817474, 2.13553101, 2.08552059,\n",
       "       2.03789254, 1.99243016, 1.94894505, 1.90727236, 1.86726702,\n",
       "       1.82880074, 1.79175947, 1.75604139, 1.72155521, 1.68821879,\n",
       "       1.65595793, 1.62470538, 1.59440004, 1.56498615, 1.53641278,\n",
       "       1.50863321, 1.48160454, 1.45528723, 1.4296448 , 1.4046435 ,\n",
       "       1.38025205, 1.3564414 , 1.33318454, 1.31045628, 1.28823315,\n",
       "       1.26649316, 1.24521576, 1.22438168, 1.2039728 , 1.18397214,\n",
       "       1.16436367, 1.1451323 , 1.12626382, 1.10774477, 1.08956245,\n",
       "       1.07170484, 1.05416053, 1.03691872, 1.01996916, 1.00330211,\n",
       "       0.9869083 , 0.97077892, 0.95490557, 0.93928025, 0.92389533,\n",
       "       0.90874353, 0.89381788, 0.87911173, 0.86461872, 0.85033276,\n",
       "       0.83624802, 0.82235891, 0.80866007, 0.79514635, 0.78181282,\n",
       "       0.76865473, 0.75566754, 0.74284685, 0.73018845, 0.71768829,\n",
       "       0.70534245, 0.69314718, 0.68109884, 0.66919394, 0.6574291 ,\n",
       "       0.64580106, 0.63430668, 0.62294292, 0.61170685, 0.60059562,\n",
       "       0.5896065 , 0.57873683, 0.56798404, 0.55734564, 0.54681923,\n",
       "       0.53640247, 0.5260931 , 0.51588893, 0.50578783, 0.49578775,\n",
       "       0.48588668, 0.47608268, 0.46637386, 0.4567584 , 0.44723452,\n",
       "       0.43780049, 0.42845463, 0.4191953 , 0.41002092, 0.40092995,\n",
       "       0.39192088, 0.38299225, 0.37414264, 0.36537065, 0.35667494])"
      ]
     },
     "execution_count": 40,
     "metadata": {},
     "output_type": "execute_result"
    }
   ],
   "source": [
    "# NLL\n",
    "NLL = -np.log(z_1)\n",
    "NLL"
   ]
  },
  {
   "cell_type": "code",
   "execution_count": 42,
   "id": "2aca6216-c67a-490f-bb48-6f74f346b00d",
   "metadata": {},
   "outputs": [
    {
     "name": "stdout",
     "output_type": "stream",
     "text": [
      "0.3999999999999999\n",
      "1.0353726039740108\n"
     ]
    }
   ],
   "source": [
    "# average z and average NLL\n",
    "print(np.mean(z_0))\n",
    "print(np.mean(NLL))"
   ]
  },
  {
   "cell_type": "code",
   "execution_count": 58,
   "id": "8ffd36e3-acff-4596-a737-7d229ae6583c",
   "metadata": {},
   "outputs": [
    {
     "name": "stdout",
     "output_type": "stream",
     "text": [
      "0.916290731874155\n",
      "1.0353726039740108\n"
     ]
    }
   ],
   "source": [
    "# We have acheived a variation in NLL whilst keeping the average z fixed\n",
    "# Furthermore notice that the order of operations now effects the outcome\n",
    "print(-np.log(np.mean(z_1)))\n",
    "print(np.mean(-np.log(z_1)))"
   ]
  },
  {
   "cell_type": "markdown",
   "id": "95565e94-8fb9-4457-a38e-c078828060b2",
   "metadata": {},
   "source": [
    "## Extreme values"
   ]
  },
  {
   "cell_type": "code",
   "execution_count": 170,
   "id": "b9476e95-f073-44ac-a1eb-d5aee62fef05",
   "metadata": {},
   "outputs": [
    {
     "name": "stdout",
     "output_type": "stream",
     "text": [
      "[0.103 0.109 0.115 0.121 0.127 0.133 0.139 0.145 0.151 0.157 0.163 0.169\n",
      " 0.175 0.181 0.187 0.193 0.199 0.205 0.211 0.217 0.223 0.229 0.235 0.241\n",
      " 0.247 0.253 0.259 0.265 0.271 0.277 0.283 0.289 0.295 0.301 0.307 0.313\n",
      " 0.319 0.325 0.331 0.337 0.343 0.349 0.355 0.361 0.367 0.373 0.379 0.385\n",
      " 0.391 0.397 0.403 0.409 0.415 0.421 0.427 0.433 0.439 0.445 0.451 0.457\n",
      " 0.463 0.469 0.475 0.481 0.487 0.493 0.499 0.505 0.511 0.517 0.523 0.529\n",
      " 0.535 0.541 0.547 0.553 0.559 0.565 0.571 0.577 0.583 0.589 0.595 0.601\n",
      " 0.607 0.613 0.619 0.625 0.631 0.637 0.643 0.649 0.655 0.661 0.667 0.673\n",
      " 0.679 0.685 0.691 0.697]\n",
      "\n",
      "[2.27302629 2.2164074  2.16282315 2.11196473 2.06356819 2.01740615\n",
      " 1.97328135 1.93102154 1.89047544 1.85150947 1.81400508 1.77785656\n",
      " 1.74296931 1.70925825 1.67664666 1.64506509 1.61445045 1.5847453\n",
      " 1.55589715 1.52785793 1.50058351 1.47403328 1.44816976 1.42295835\n",
      " 1.39836694 1.37436579 1.35092722 1.32802545 1.30563646 1.28373777\n",
      " 1.26230838 1.24132859 1.22077992 1.20064501 1.18090753 1.16155209\n",
      " 1.14256418 1.1239301  1.1056369  1.08767235 1.07002483 1.05268336\n",
      " 1.03563749 1.01887732 1.00239343 0.98617686 0.97021907 0.95451194\n",
      " 0.93904772 0.923819   0.90881872 0.89404012 0.87947676 0.86512245\n",
      " 0.85097127 0.83701755 0.82325587 0.809681   0.79628794 0.78307189\n",
      " 0.77002822 0.75715251 0.74444047 0.73188801 0.71949116 0.7072461\n",
      " 0.69514918 0.68319685 0.67138569 0.6597124  0.64817381 0.63676685\n",
      " 0.62548853 0.614336   0.60330648 0.59239728 0.58160581 0.57092955\n",
      " 0.56036607 0.54991301 0.53956809 0.5293291  0.51919387 0.50916034\n",
      " 0.49922649 0.48939034 0.47965001 0.47000363 0.46044942 0.45098562\n",
      " 0.44161055 0.43232256 0.42312004 0.41400144 0.40496523 0.39600995\n",
      " 0.38713415 0.37833644 0.36961546 0.36096987]\n",
      "\n",
      "Avg z: 0.40000000000000013\n",
      "Avg NLL: 1.0323351624201502\n"
     ]
    }
   ],
   "source": [
    "# Linear variation\n",
    "\n",
    "factor = 0.006\n",
    "\n",
    "z_2 = 0.4*np.ones(100)\n",
    "\n",
    "for indx in range(len(z_2)):\n",
    "    z_2[indx] = z_2[indx]+indx*factor-factor*(len(z_2)-1)/2\n",
    "    \n",
    "print(z_2)\n",
    "print()\n",
    "print(-np.log(z_2))\n",
    "print()\n",
    "print(\"Avg z:\",np.mean(z_2))\n",
    "print(\"Avg NLL:\",np.mean(-np.log(z_2)))"
   ]
  },
  {
   "cell_type": "markdown",
   "id": "c80fcc29-7f6c-4e68-9315-1ff5aa5c5da1",
   "metadata": {},
   "source": [
    "Making the variations linear limits the Avg NLL. However, theoretically we can subtract any amount from one element and as long as we add it onto another then the average will remain unaffected."
   ]
  },
  {
   "cell_type": "code",
   "execution_count": 174,
   "id": "070abef8-87f6-4b89-89e6-abd28254c787",
   "metadata": {},
   "outputs": [
    {
     "name": "stdout",
     "output_type": "stream",
     "text": [
      "[1.000e-04 1.000e-04 1.000e-04 1.000e-04 1.000e-04 1.000e-04 1.000e-04\n",
      " 1.000e-04 1.000e-04 1.000e-04 1.000e-04 1.000e-04 1.000e-04 1.000e-04\n",
      " 1.000e-04 1.000e-04 1.000e-04 1.000e-04 1.000e-04 1.000e-04 4.000e-01\n",
      " 4.000e-01 4.000e-01 4.000e-01 4.000e-01 4.000e-01 4.000e-01 4.000e-01\n",
      " 4.000e-01 4.000e-01 4.000e-01 4.000e-01 4.000e-01 4.000e-01 4.000e-01\n",
      " 4.000e-01 4.000e-01 4.000e-01 4.000e-01 4.000e-01 4.000e-01 4.000e-01\n",
      " 4.000e-01 4.000e-01 4.000e-01 4.000e-01 4.000e-01 4.000e-01 4.000e-01\n",
      " 4.000e-01 4.000e-01 4.000e-01 4.000e-01 4.000e-01 4.000e-01 4.000e-01\n",
      " 4.000e-01 4.000e-01 4.000e-01 4.000e-01 4.000e-01 4.000e-01 4.000e-01\n",
      " 4.000e-01 4.000e-01 4.000e-01 4.000e-01 4.000e-01 4.000e-01 4.000e-01\n",
      " 4.000e-01 4.000e-01 4.000e-01 4.000e-01 4.000e-01 4.000e-01 4.000e-01\n",
      " 4.000e-01 4.000e-01 4.000e-01 7.999e-01 7.999e-01 7.999e-01 7.999e-01\n",
      " 7.999e-01 7.999e-01 7.999e-01 7.999e-01 7.999e-01 7.999e-01 7.999e-01\n",
      " 7.999e-01 7.999e-01 7.999e-01 7.999e-01 7.999e-01 7.999e-01 7.999e-01\n",
      " 7.999e-01 7.999e-01]\n",
      "\n",
      "[9.21034037 9.21034037 9.21034037 9.21034037 9.21034037 9.21034037\n",
      " 9.21034037 9.21034037 9.21034037 9.21034037 9.21034037 9.21034037\n",
      " 9.21034037 9.21034037 9.21034037 9.21034037 9.21034037 9.21034037\n",
      " 9.21034037 9.21034037 0.91629073 0.91629073 0.91629073 0.91629073\n",
      " 0.91629073 0.91629073 0.91629073 0.91629073 0.91629073 0.91629073\n",
      " 0.91629073 0.91629073 0.91629073 0.91629073 0.91629073 0.91629073\n",
      " 0.91629073 0.91629073 0.91629073 0.91629073 0.91629073 0.91629073\n",
      " 0.91629073 0.91629073 0.91629073 0.91629073 0.91629073 0.91629073\n",
      " 0.91629073 0.91629073 0.91629073 0.91629073 0.91629073 0.91629073\n",
      " 0.91629073 0.91629073 0.91629073 0.91629073 0.91629073 0.91629073\n",
      " 0.91629073 0.91629073 0.91629073 0.91629073 0.91629073 0.91629073\n",
      " 0.91629073 0.91629073 0.91629073 0.91629073 0.91629073 0.91629073\n",
      " 0.91629073 0.91629073 0.91629073 0.91629073 0.91629073 0.91629073\n",
      " 0.91629073 0.91629073 0.22326856 0.22326856 0.22326856 0.22326856\n",
      " 0.22326856 0.22326856 0.22326856 0.22326856 0.22326856 0.22326856\n",
      " 0.22326856 0.22326856 0.22326856 0.22326856 0.22326856 0.22326856\n",
      " 0.22326856 0.22326856 0.22326856 0.22326856]\n",
      "\n",
      "Avg z: 0.4\n",
      "Avg NLL: 2.4364962253451132\n"
     ]
    }
   ],
   "source": [
    "z_3 = 0.4*np.ones(100)\n",
    "\n",
    "change_num = 20\n",
    "\n",
    "for indx in range(change_num): \n",
    "    z_3[indx] = z_3[indx] - 0.3999\n",
    "    z_3[-indx-1] = z_3[-indx-1] + 0.3999\n",
    "\n",
    "print(z_3)\n",
    "print()\n",
    "print(-np.log(z_3))\n",
    "print()\n",
    "print(\"Avg z:\",np.mean(z_3))\n",
    "print(\"Avg NLL:\",np.mean(-np.log(z_3)))"
   ]
  },
  {
   "cell_type": "markdown",
   "id": "b424cc91-4161-4996-a991-93b31dab070d",
   "metadata": {},
   "source": [
    "It seems that we can further increase the NLL bycreating extreme values in the array but note that the values would have to be even further ridiculously extrem to acheive an NLL even above 10..."
   ]
  },
  {
   "cell_type": "code",
   "execution_count": 185,
   "id": "bab2bbdb-7abd-4972-bd00-af42cad05f14",
   "metadata": {},
   "outputs": [
    {
     "name": "stdout",
     "output_type": "stream",
     "text": [
      "[9.99200722e-16 9.99200722e-16 9.99200722e-16 9.99200722e-16\n",
      " 9.99200722e-16 9.99200722e-16 9.99200722e-16 9.99200722e-16\n",
      " 9.99200722e-16 9.99200722e-16 9.99200722e-16 9.99200722e-16\n",
      " 9.99200722e-16 9.99200722e-16 9.99200722e-16 9.99200722e-16\n",
      " 9.99200722e-16 9.99200722e-16 9.99200722e-16 9.99200722e-16\n",
      " 9.99200722e-16 9.99200722e-16 9.99200722e-16 9.99200722e-16\n",
      " 9.99200722e-16 9.99200722e-16 9.99200722e-16 9.99200722e-16\n",
      " 9.99200722e-16 9.99200722e-16 4.00000000e-01 4.00000000e-01\n",
      " 4.00000000e-01 4.00000000e-01 4.00000000e-01 4.00000000e-01\n",
      " 4.00000000e-01 4.00000000e-01 4.00000000e-01 4.00000000e-01\n",
      " 4.00000000e-01 4.00000000e-01 4.00000000e-01 4.00000000e-01\n",
      " 4.00000000e-01 4.00000000e-01 4.00000000e-01 4.00000000e-01\n",
      " 4.00000000e-01 4.00000000e-01 4.00000000e-01 4.00000000e-01\n",
      " 4.00000000e-01 4.00000000e-01 4.00000000e-01 4.00000000e-01\n",
      " 4.00000000e-01 4.00000000e-01 4.00000000e-01 4.00000000e-01\n",
      " 4.00000000e-01 4.00000000e-01 4.00000000e-01 4.00000000e-01\n",
      " 4.00000000e-01 4.00000000e-01 4.00000000e-01 4.00000000e-01\n",
      " 4.00000000e-01 4.00000000e-01 8.00000000e-01 8.00000000e-01\n",
      " 8.00000000e-01 8.00000000e-01 8.00000000e-01 8.00000000e-01\n",
      " 8.00000000e-01 8.00000000e-01 8.00000000e-01 8.00000000e-01\n",
      " 8.00000000e-01 8.00000000e-01 8.00000000e-01 8.00000000e-01\n",
      " 8.00000000e-01 8.00000000e-01 8.00000000e-01 8.00000000e-01\n",
      " 8.00000000e-01 8.00000000e-01 8.00000000e-01 8.00000000e-01\n",
      " 8.00000000e-01 8.00000000e-01 8.00000000e-01 8.00000000e-01\n",
      " 8.00000000e-01 8.00000000e-01 8.00000000e-01 8.00000000e-01]\n",
      "\n",
      "[34.53957599 34.53957599 34.53957599 34.53957599 34.53957599 34.53957599\n",
      " 34.53957599 34.53957599 34.53957599 34.53957599 34.53957599 34.53957599\n",
      " 34.53957599 34.53957599 34.53957599 34.53957599 34.53957599 34.53957599\n",
      " 34.53957599 34.53957599 34.53957599 34.53957599 34.53957599 34.53957599\n",
      " 34.53957599 34.53957599 34.53957599 34.53957599 34.53957599 34.53957599\n",
      "  0.91629073  0.91629073  0.91629073  0.91629073  0.91629073  0.91629073\n",
      "  0.91629073  0.91629073  0.91629073  0.91629073  0.91629073  0.91629073\n",
      "  0.91629073  0.91629073  0.91629073  0.91629073  0.91629073  0.91629073\n",
      "  0.91629073  0.91629073  0.91629073  0.91629073  0.91629073  0.91629073\n",
      "  0.91629073  0.91629073  0.91629073  0.91629073  0.91629073  0.91629073\n",
      "  0.91629073  0.91629073  0.91629073  0.91629073  0.91629073  0.91629073\n",
      "  0.91629073  0.91629073  0.91629073  0.91629073  0.22314355  0.22314355\n",
      "  0.22314355  0.22314355  0.22314355  0.22314355  0.22314355  0.22314355\n",
      "  0.22314355  0.22314355  0.22314355  0.22314355  0.22314355  0.22314355\n",
      "  0.22314355  0.22314355  0.22314355  0.22314355  0.22314355  0.22314355\n",
      "  0.22314355  0.22314355  0.22314355  0.22314355  0.22314355  0.22314355\n",
      "  0.22314355  0.22314355  0.22314355  0.22314355]\n",
      "\n",
      "Avg z: 0.4\n",
      "Avg NLL: 10.79533215584619\n"
     ]
    }
   ],
   "source": [
    "z_3 = 0.4*np.ones(100)\n",
    "\n",
    "change_num = 30\n",
    "\n",
    "for indx in range(change_num): \n",
    "    z_3[indx] = z_3[indx] - (0.4-10**-15)\n",
    "    z_3[-indx-1] = z_3[-indx-1] + (0.4-10**-15)\n",
    "\n",
    "print(z_3)\n",
    "print()\n",
    "print(-np.log(z_3))\n",
    "print()\n",
    "print(\"Avg z:\",np.mean(z_3))\n",
    "print(\"Avg NLL:\",np.mean(-np.log(z_3)))"
   ]
  },
  {
   "cell_type": "markdown",
   "id": "2f0312c5-bbb9-4b9e-885a-c30b0768b8f6",
   "metadata": {},
   "source": [
    "It would seem that we can guarantee a sensible value for the NLL in all but the most extreme scenarios. Therefore I should go back and check the validity of the values for $z$ being taken over the test set.\n",
    "\n",
    "Whilst extremely small values are cerainly possible for a Gaussian, particularly when the variance is low, the numbers I am seeing are very extreme and there may be errors in the evaluation code. Even if there are no errors perhaps I will introduce a minimum value for $z$ to give more interpretable results in the evaluation function."
   ]
  },
  {
   "cell_type": "markdown",
   "id": "4d566e9c-b4cd-45a5-983b-910818b60f38",
   "metadata": {},
   "source": [
    "## Outcome\n",
    "\n",
    "I have found that in these first experimental runs the loss simply is extremely large as the model is just terrible. For any decent model the losses will remain reasonable and will not be a concern. Furthermore the operations of taking logarithms and averages should remain fairly interchangable and cause only a minor numerical difference.\n",
    "\n",
    "Having said that I have decided to limit the variance in both the training loop, and the evaluation loop too for consistency. This implementation in the training loop should help to prevent overfitting by preventing the model from continually reducing the variance as it further overfits to the training data, although this may only slow down the overfitting rather than completely preventing it. "
   ]
  }
 ],
 "metadata": {
  "kernelspec": {
   "display_name": "Python 3 (ipykernel)",
   "language": "python",
   "name": "python3"
  },
  "language_info": {
   "codemirror_mode": {
    "name": "ipython",
    "version": 3
   },
   "file_extension": ".py",
   "mimetype": "text/x-python",
   "name": "python",
   "nbconvert_exporter": "python",
   "pygments_lexer": "ipython3",
   "version": "3.10.9"
  }
 },
 "nbformat": 4,
 "nbformat_minor": 5
}
