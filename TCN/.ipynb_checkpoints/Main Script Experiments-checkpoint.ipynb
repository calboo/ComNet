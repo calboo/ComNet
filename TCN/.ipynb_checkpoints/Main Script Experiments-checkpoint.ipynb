{
 "cells": [
  {
   "cell_type": "markdown",
   "id": "fb786f7d",
   "metadata": {},
   "source": [
    "# Main Script"
   ]
  },
  {
   "cell_type": "markdown",
   "id": "fe1c41c6-b973-4da2-bebe-ba1c3f49fd58",
   "metadata": {},
   "source": [
    "### Naive model statistics for baseline\n",
    "\n",
    "The average probability density is:  0.279  \n",
    "The average NLL density is:  0.485  \n",
    "The average MAE is:  0.665  "
   ]
  },
  {
   "cell_type": "markdown",
   "id": "d858ef24-4fb9-41fe-a055-2daadfe10e94",
   "metadata": {},
   "source": [
    "### Train/Eval Model"
   ]
  },
  {
   "cell_type": "code",
   "execution_count": 1,
   "id": "0f8f5d9a",
   "metadata": {},
   "outputs": [
    {
     "name": "stderr",
     "output_type": "stream",
     "text": [
      "usage: ComNet_Train.py [-h] [--inputs_file_name INPUTS_FILE_NAME]\n",
      "                       [--targets_file_name TARGETS_FILE_NAME]\n",
      "                       [--save_dir SAVE_DIR] --name NAME [--version VERSION]\n",
      "                       [--gpu_accel] --model_config MODEL_CONFIG\n",
      "                       [--lr_config LR_CONFIG]\n",
      "                       [--optimizer {AdamW,SGD,SGD_nesterov}] [--lr LR]\n",
      "                       [--weight_decay WEIGHT_DECAY] [--batch_size BATCH_SIZE]\n",
      "                       [--log_interval LOG_INTERVAL] [--epochs EPOCHS]\n",
      "                       [--eval_interval EVAL_INTERVAL] [--weight_hist]\n",
      "                       [--print_singular] [--resume]\n",
      "ComNet_Train.py: error: argument --lr_config: invalid loads value: '{\"sched_args\": {\"method\": \"one_cycle\", \"max_lr\": 1e-3, \"three_phase\": True}}'\n"
     ]
    },
    {
     "ename": "SystemExit",
     "evalue": "2",
     "output_type": "error",
     "traceback": [
      "An exception has occurred, use %tb to see the full traceback.\n",
      "\u001b[0;31mSystemExit\u001b[0m\u001b[0;31m:\u001b[0m 2\n"
     ]
    }
   ],
   "source": [
    "%run ./app/ComNet_Train.py \\\n",
    "--inputs_file_name '../Data/Input/Basic/input_data.pkl' \\\n",
    "--targets_file_name '../Data/Input/Basic/input_target.pkl' \\\n",
    "--save_dir 'outputs/TESTING' --name 'sgd_schedule' --version 'one_cycle_0' --gpu_accel \\\n",
    "--model_config '{\"model_args\": {\"history_length\": 100, \"num_inputs\": 81, \"num_channels\": [16,16,8], \"activation\": \"gelu\", \"kernel_size\": 3, \"dropout\": 0.5}}' \\\n",
    "--lr_config '{\"sched_args\": {\"method\": \"one_cycle\", \"max_lr\": 1e-3, \"three_phase\": \"True\"}}' \\\n",
    "--optimizer 'SGD' --lr '1e-3' --weight_decay '0.1' \\\n",
    "--batch_size '8' --log_interval '128' --epochs '50' --eval_interval '1' --weight_hist\n"
   ]
  },
  {
   "cell_type": "markdown",
   "id": "b46e192c-e96d-458e-b577-78cafb1b4d66",
   "metadata": {},
   "source": [
    "### Scheduler arg templates"
   ]
  },
  {
   "cell_type": "code",
   "execution_count": null,
   "id": "8e353cec-60d5-43ac-ae83-5d38ded6acfe",
   "metadata": {},
   "outputs": [],
   "source": [
    "# lr_config template for plateau\n",
    "--lr_config '{\"sched_args\": {\"method\": \"plateau\", \"factor\": \"1/np.sqrt(10)\", \"patience\": 5, \"threshold\": 0.1}}' \\\n"
   ]
  },
  {
   "cell_type": "code",
   "execution_count": null,
   "id": "95ab0fb6-82a2-4e5d-9799-19c71550e6f3",
   "metadata": {},
   "outputs": [],
   "source": [
    "# lr_config template for cosine_warm\n",
    "--lr_config '{\"sched_args\": {\"method\": \"cosine_warm\", \"t_0\": 10, \"t_mult\": 1}}' \\\n"
   ]
  },
  {
   "cell_type": "code",
   "execution_count": null,
   "id": "38043018-4515-4367-8095-01d6128ed052",
   "metadata": {},
   "outputs": [],
   "source": [
    "# lr_config template for one_cycle\n",
    "--lr_config '{\"sched_args\": {\"method\": \"one_cycle\", \"max_lr\": 1e-3, \"three_phase\": True}}' \\\n"
   ]
  },
  {
   "cell_type": "markdown",
   "id": "9b657ecb-d8b8-4d5f-962f-eac4c56693c2",
   "metadata": {},
   "source": [
    "### LR_find"
   ]
  },
  {
   "cell_type": "code",
   "execution_count": 9,
   "id": "e9e01a8a-4675-46a4-af6a-d196576ee1a0",
   "metadata": {
    "scrolled": true
   },
   "outputs": [
    {
     "name": "stdout",
     "output_type": "stream",
     "text": [
      "Using Apple MPS Framework for GPU acceleration with 1 local device/s \n",
      "\n",
      "LR finder begins... \n",
      "\n",
      "Run number:  1\n",
      "length of loss array in this run:  3045\n",
      "lr with the minimum loss for this run:  -3.1803508771930287\n",
      "\n",
      "Run number:  2\n",
      "length of loss array in this run:  3045\n",
      "lr with the minimum loss for this run:  -5.993450292397661\n",
      "\n",
      "Run number:  3\n",
      "length of loss array in this run:  3045\n",
      "lr with the minimum loss for this run:  -3.4685380116959474\n",
      "\n",
      "Run number:  4\n",
      "length of loss array in this run:  3045\n",
      "lr with the minimum loss for this run:  -3.578245614035127\n",
      "\n",
      "Run number:  5\n",
      "length of loss array in this run:  2478\n",
      "lr with the minimum loss for this run:  -5.986900584795322\n",
      "\n",
      "Run number:  6\n",
      "length of loss array in this run:  3045\n",
      "lr with the minimum loss for this run:  -3.4145029239766505\n",
      "\n",
      "Run number:  7\n",
      "length of loss array in this run:  3045\n",
      "lr with the minimum loss for this run:  -2.4549707602339756\n",
      "\n",
      "Run number:  8\n",
      "length of loss array in this run:  3045\n",
      "lr with the minimum loss for this run:  -3.4014035087719723\n",
      "\n",
      "Run number:  9\n",
      "length of loss array in this run:  3017\n",
      "lr with the minimum loss for this run:  -1.1368421052632367\n",
      "\n",
      "Run number:  10\n",
      "length of loss array in this run:  3045\n",
      "lr with the minimum loss for this run:  -5.986900584795322\n",
      "\n",
      "\n",
      "Overall result: \n",
      "Log lr with the minimum loss in aggregate:  -3.4636257309941927\n",
      "This equates to a learning rate of: 3.439e-04\n",
      "\n"
     ]
    }
   ],
   "source": [
    "%run ./app/ComNet_lrfind.py \\\n",
    "--inputs_file_name '../Data/Input/Basic/input_data.pkl' \\\n",
    "--targets_file_name '../Data/Input/Basic/input_target.pkl' \\\n",
    "--save_dir 'outputs/TESTING' --name 'lrfind_build' --version 'batch_4' --gpu_accel \\\n",
    "--model_config '{\"model_args\": {\"history_length\": 100, \"num_inputs\": 81, \"num_channels\": [16,16,8], \"activation\": \"gelu\", \"kernel_size\": 3, \"dropout\": 0.5}}' \\\n",
    "--optimizer 'SGD' --lr_init '1e-6' --lr_max '1e1' --weight_decay '0.1' \\\n",
    "--batch_size '4' --beta '0.99' --epochs '5' --num_runs '10'\n"
   ]
  }
 ],
 "metadata": {
  "kernelspec": {
   "display_name": "Python 3 (ipykernel)",
   "language": "python",
   "name": "python3"
  },
  "language_info": {
   "codemirror_mode": {
    "name": "ipython",
    "version": 3
   },
   "file_extension": ".py",
   "mimetype": "text/x-python",
   "name": "python",
   "nbconvert_exporter": "python",
   "pygments_lexer": "ipython3",
   "version": "3.10.9"
  }
 },
 "nbformat": 4,
 "nbformat_minor": 5
}
